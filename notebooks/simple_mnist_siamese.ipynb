{
 "cells": [
  {
   "cell_type": "markdown",
   "metadata": {},
   "source": [
    "# Simple Siamese network"
   ]
  },
  {
   "cell_type": "markdown",
   "metadata": {},
   "source": [
    "## Asembling dataset (mnist)"
   ]
  },
  {
   "cell_type": "code",
   "execution_count": 2,
   "metadata": {},
   "outputs": [],
   "source": [
    "import pandas as pd\n",
    "import os\n",
    "import numpy as np\n",
    "import csv\n",
    "from matplotlib import pyplot as plt\n",
    "import tensorflow as tf\n",
    "from tensorflow.keras.layers import Input, Conv2D, MaxPooling2D, Flatten, Dense, Lambda, Dropout\n",
    "from tensorflow.keras.models import Model\n",
    "from tensorflow.keras.optimizers import Adam\n",
    "\n",
    "\n",
    "mnist_path= \"../resources/mnist.csv\""
   ]
  },
  {
   "cell_type": "code",
   "execution_count": 3,
   "metadata": {},
   "outputs": [
    {
     "name": "stdout",
     "output_type": "stream",
     "text": [
      "Reading 48000 images from csv...\n",
      "\n",
      "Sucess: 80000 pairs created. Used 93%\n"
     ]
    }
   ],
   "source": [
    "NUMBER_OF_IMAGES_TO_READ_FROM_CSV=int(.8 * 60000)\n",
    "NUMBER_OF_POS_PAIRS=4000\n",
    "NUMBER_OF_NEG_PAIRS=4000\n",
    "\n",
    "\n",
    "# code\n",
    "print(f\"Reading {NUMBER_OF_IMAGES_TO_READ_FROM_CSV} images from csv...\\n\")\n",
    "\n",
    "label_image=[ \n",
    "    # {'label': 3, 'img':np.array(28x28) }\n",
    "]\n",
    "with open(mnist_path, \"r\") as csv_file:\n",
    "    reader = csv.reader(csv_file)\n",
    "    for i in range(NUMBER_OF_IMAGES_TO_READ_FROM_CSV):\n",
    "        row = next(reader)\n",
    "        # print(len(row),row,end=\"\\n\\n\")\n",
    "\n",
    "        label= int(row[0])\n",
    "        image= np.array( [int(p) for p in row[1:] ] ).reshape((28,28))\n",
    "        \n",
    "        label_image.append({\n",
    "            'label':label,\n",
    "            'image':image\n",
    "        })\n",
    "\n",
    "\n",
    "#So after previous cell we have label_image which is a list of dicts:\n",
    "# ```\n",
    "# [\n",
    "#     { 'label': 3, 'img': np.array(28x28)},\n",
    "#     { 'label': 1, 'img': np.array(28x28)}\n",
    "# ...\n",
    "# ]\n",
    "# ```\n",
    "# Now we gotta create pairs out of that\n",
    "\n",
    "# variable holding dataset called **img_img_label** is breated here\n",
    "\n",
    "img_img_label=[\n",
    "    # [np.array(), np.array(), 1]\n",
    "]\n",
    "\n",
    "log=False\n",
    "elements_used=0\n",
    "\n",
    "for label in [0,1,2,3,4,5,6,7,8,9]:\n",
    "    if log: print(f\"Creating pairs for label {label}\")\n",
    "    n_positive_pairs=0\n",
    "    n_negative_pairs=0\n",
    "\n",
    "    img_A=None\n",
    "    get_first_img=True\n",
    "    pos_neg=None\n",
    "    for i, lbl_img in enumerate(label_image):\n",
    "\n",
    "        if i>elements_used:\n",
    "            elements_used=i\n",
    "\n",
    "        if lbl_img['label'] == label:  # if label positive\n",
    "            if get_first_img:\n",
    "                if log: print(f\"\\tFound first img_A\")\n",
    "                img_A= lbl_img['image']\n",
    "                get_first_img=False\n",
    "            \n",
    "            elif n_positive_pairs < NUMBER_OF_POS_PAIRS :\n",
    "                if log: print(f\"\\tFound positive img_B\", end=\"  \")\n",
    "                if img_A is not None:\n",
    "                    if log: print(f\"adding\")\n",
    "                    n_positive_pairs+=1\n",
    "                    img_img_label.append(\n",
    "                        [img_A, lbl_img['image'], 1]\n",
    "                    )\n",
    "                else:\n",
    "                    if log: print(f\"skipping (no img_A yet)\")\n",
    "               \n",
    "        \n",
    "        elif n_negative_pairs < NUMBER_OF_NEG_PAIRS :\n",
    "            if log: print(f\"\\tFound negative img_B\", end=\"  \")\n",
    "            if img_A is not None:\n",
    "                    if log: print(f\"adding\")\n",
    "                    n_negative_pairs+=1\n",
    "                    img_img_label.append(\n",
    "                        [img_A, lbl_img['image'], 0]\n",
    "                    )\n",
    "            else:\n",
    "                if log: print(f\"skipping (no img_A yet)\")\n",
    "       \n",
    "        if n_negative_pairs>=NUMBER_OF_POS_PAIRS and n_positive_pairs>= NUMBER_OF_NEG_PAIRS:\n",
    "            break\n",
    "    \n",
    "            \n",
    "if len(img_img_label) == 10*(NUMBER_OF_POS_PAIRS + NUMBER_OF_NEG_PAIRS):\n",
    "    print(f\"Sucess: {len(img_img_label)} pairs created. Used {100*elements_used/NUMBER_OF_IMAGES_TO_READ_FROM_CSV:.0f}%\")\n",
    "else:\n",
    "    print(f\"Fail: {len(img_img_label)} pairs build of of {10*(NUMBER_OF_POS_PAIRS + NUMBER_OF_NEG_PAIRS)} required. \\nSome pairs missing. Try reading more rows from csv file\\n Used {100*elements_used/NUMBER_OF_IMAGES_TO_READ_FROM_CSV}\")\n",
    "\n",
    "del label_image, log, elements_used"
   ]
  },
  {
   "cell_type": "markdown",
   "metadata": {},
   "source": [
    "---\n",
    "After running previous cell we have list called **img_img_label**  \n",
    "It is a list of lists, structured as follows:  \n",
    "```\n",
    "[\n",
    "    [img_A, img_B, label],\n",
    "    [img_A, img_B, label],\n",
    "    [img_A, img_B, label],\n",
    "    ...\n",
    "]\n",
    "\n",
    "```\n",
    "where:  \n",
    "- `img_A` is a numpy array containing first  image (grayscale, shape (28x28))  \n",
    "- `img_B` is a numpy array containing second image (grayscale, shape (28x28))  \n",
    "- `label` is an integer, is equal to 0 if images contain diffrent digits, is equal to 1 if images are the same  \n",
    "\n",
    "### Show image pairs"
   ]
  },
  {
   "cell_type": "code",
   "execution_count": 4,
   "metadata": {},
   "outputs": [
    {
     "data": {
      "image/png": "[encoded data removed]",
      "text/plain": [
       "<Figure size 1800x720 with 24 Axes>"
      ]
     },
     "metadata": {},
     "output_type": "display_data"
    }
   ],
   "source": [
    "SHOW_FIRST_N_PAIRS=20\n",
    "\n",
    "cols= 6\n",
    "rows= 1+ SHOW_FIRST_N_PAIRS//cols\n",
    "plt.style.use('dark_background')\n",
    "\n",
    "fig= plt.figure(figsize=(25,10))\n",
    "axes=fig.subplots(rows,cols).ravel()\n",
    "i=0\n",
    "for imgA, imgB, label in img_img_label:\n",
    "    mashed_imgAB=  np.concatenate((imgA,255*np.ones((28,1)),imgB), axis=1)\n",
    "    axes[i].imshow(mashed_imgAB, cmap='gray')\n",
    "    axes[i].set_title(f\"imgA imgB label={label}\", fontsize=19)\n",
    "    i+=1\n",
    "    if i > SHOW_FIRST_N_PAIRS: break\n",
    "fig.tight_layout()\n"
   ]
  },
  {
   "cell_type": "markdown",
   "metadata": {},
   "source": [
    "Now we have a list of lists with data where:\n",
    "```\n",
    "[\n",
    "    [np.array(28x28), np.array(28x28), 1],\n",
    "    [np.array(28x28), np.array(28x28), 0],\n",
    "]\n",
    "\n",
    "```\n",
    "## Building data generator for SNN"
   ]
  },
  {
   "cell_type": "code",
   "execution_count": 5,
   "metadata": {},
   "outputs": [
    {
     "name": "stdout",
     "output_type": "stream",
     "text": [
      "split_idx=72000\n"
     ]
    }
   ],
   "source": [
    "from tensorflow.keras.utils import Sequence\n",
    "\n",
    "class DataGenerator(Sequence):\n",
    "    def __init__(self, list_imgA_imgB_label, batch_size= 1, shuffle=False) -> None:\n",
    "        \"\"\"Creates generator.\n",
    "\n",
    "        Args:\n",
    "            list_imgA_imgB_label (list): list of lists where each dublist is [imgA, imgB, label] \n",
    "            shuffle (_type_): if True than shuffeling data after epoch.\n",
    "            batch_size (int, optional): Size of batch. Defaults to 1.\n",
    "        \"\"\"\n",
    "\n",
    "        self.data                   = list_imgA_imgB_label\n",
    "        self.batch_size             = batch_size\n",
    "        self.shuffle                = shuffle\n",
    "        self.indices                = np.arange(len(self.data))\n",
    "        self.on_epoch_end()\n",
    "\n",
    "    def __len__(self):\n",
    "        \"\"\"Returns number of batches in the dataset.\n",
    "\n",
    "        Returns:\n",
    "            int: _description_\n",
    "        \"\"\"\n",
    "        return len(self.data) // self.batch_size\n",
    "\n",
    "    def __getitem__(self, index):\n",
    "        \"\"\"The __getitem__ method is called by TensorFlow to get a batch of training data for each iteration of training. It takes an index as input, which represents the index of the batch to return.\n",
    "\n",
    "        Args:\n",
    "            index (_type_): _description_\n",
    "\n",
    "        Returns:\n",
    "            _type_: _description_\n",
    "        \"\"\"\n",
    "        batch_indices = self.indices[index * self.batch_size  :  (index + 1) * self.batch_size]\n",
    "        batch_data = [self.data[idx] for idx in batch_indices] # list of [imgA, imgB, label]  i.e. [np.array(28x28), np.array(28x28), int]\n",
    "\n",
    "        X1      = [sample[0] for sample in batch_data]\n",
    "        X2      = [sample[1] for sample in batch_data]\n",
    "        y_list  =  [sample[2] for sample in batch_data]\n",
    "\n",
    "        X1 = np.array(X1).reshape(-1, 28, 28, 1)\n",
    "        X2 = np.array(X2).reshape(-1, 28, 28, 1)\n",
    "        Y  = np.array(y_list) \n",
    "\n",
    "        X1_tensor = tf.convert_to_tensor(X1, dtype=tf.float32)\n",
    "        X2_tensor = tf.convert_to_tensor(X2, dtype=tf.float32)\n",
    "        Y_tensor  = tf.convert_to_tensor(Y,  dtype=tf.float32)\n",
    "\n",
    "        return [X1_tensor, X2_tensor], Y_tensor\n",
    "\n",
    "    def on_epoch_end(self):\n",
    "        if self.shuffle:\n",
    "            np.random.shuffle(self.indices)\n",
    "\n",
    "# Create train and validation generators\n",
    "split_idx= int(0.9*len(img_img_label))\n",
    "train_generator     = DataGenerator(img_img_label[:split_idx], batch_size=32, shuffle=True)\n",
    "validation_generator= DataGenerator(img_img_label[split_idx:], batch_size=1000, )\n",
    "print(f\"{split_idx=}\")\n",
    "        "
   ]
  },
  {
   "cell_type": "code",
   "execution_count": 7,
   "metadata": {},
   "outputs": [
    {
     "name": "stdout",
     "output_type": "stream",
     "text": [
      "type(batch)=<class 'tuple'>\n",
      "len(batch)=2\n",
      "\n",
      "\ttype(batch[0])=<class 'list'>\n",
      "\tlen(batch[0])=2\n",
      "\t\ttype(batch[0][0])=<class 'tensorflow.python.framework.ops.EagerTensor'>\n",
      "\t\tbatch[0][0].shape=TensorShape([2, 28, 28, 1])\n",
      "\n",
      "\t\ttype(batch[0][1])=<class 'tensorflow.python.framework.ops.EagerTensor'>\n",
      "\t\tbatch[0][1].shape=TensorShape([2, 28, 28, 1])\n",
      "\n",
      "type(batch[1])=<class 'tensorflow.python.framework.ops.EagerTensor'>\n",
      "batch[1].shape=TensorShape([2])\n"
     ]
    }
   ],
   "source": [
    "# TEst generator, get first batch\n",
    "for batch in train_generator:\n",
    "    print(f\"{type(batch)=}\")\n",
    "    print(f\"{len(batch)=}\")\n",
    "    print()\n",
    "    print(f\"\\t{type(batch[0])=}\")\n",
    "    print(f\"\\t{len(batch[0])=}\")\n",
    "    print(f\"\\t\\t{type(batch[0][0])=}\")\n",
    "    print(f\"\\t\\t{batch[0][0].shape=}\")\n",
    "    print()\n",
    "    print(f\"\\t\\t{type(batch[0][1])=}\")\n",
    "    print(f\"\\t\\t{batch[0][1].shape=}\")\n",
    "\n",
    "    print()\n",
    "    print(f\"{type(batch[1])=}\")\n",
    "    print(f\"{batch[1].shape=}\")\n",
    "    break\n",
    "    # print(f\"Batch {i} inputs shape: {inputs.shape}\")\n",
    "    # print(f\"Batch {i} targets shape: {targets.shape}\")"
   ]
  },
  {
   "cell_type": "markdown",
   "metadata": {},
   "source": [
    "### SNN architecture"
   ]
  },
  {
   "cell_type": "code",
   "execution_count": 6,
   "metadata": {},
   "outputs": [],
   "source": [
    "def contrastive_loss(y_true, y_pred, margin=1.0):\n",
    "    square_pred = tf.square(y_pred)\n",
    "    margin_square = tf.square(tf.maximum(margin - y_pred, 0))\n",
    "    loss = tf.reduce_mean((1 - y_true) * square_pred + (y_true) * margin_square)\n",
    "    return loss"
   ]
  },
  {
   "cell_type": "code",
   "execution_count": 7,
   "metadata": {},
   "outputs": [
    {
     "name": "stdout",
     "output_type": "stream",
     "text": [
      "Model: \"SSN\"\n",
      "__________________________________________________________________________________________________\n",
      "Layer (type)                    Output Shape         Param #     Connected to                     \n",
      "==================================================================================================\n",
      "input_a (InputLayer)            [(None, 28, 28, 1)]  0                                            \n",
      "__________________________________________________________________________________________________\n",
      "input_b (InputLayer)            [(None, 28, 28, 1)]  0                                            \n",
      "__________________________________________________________________________________________________\n",
      "feature_extractor (Functional)  (None, 16)           414640      input_a[0][0]                    \n",
      "                                                                 input_b[0][0]                    \n",
      "__________________________________________________________________________________________________\n",
      "euclidean (Lambda)              (None, 16)           0           feature_extractor[0][0]          \n",
      "                                                                 feature_extractor[1][0]          \n",
      "__________________________________________________________________________________________________\n",
      "sigmoid_output (Dense)          (None, 1)            17          euclidean[0][0]                  \n",
      "==================================================================================================\n",
      "Total params: 414,657\n",
      "Trainable params: 414,657\n",
      "Non-trainable params: 0\n",
      "__________________________________________________________________________________________________\n",
      "\n",
      "feature_extractor\n",
      "Model: \"feature_extractor\"\n",
      "_________________________________________________________________\n",
      "Layer (type)                 Output Shape              Param #   \n",
      "=================================================================\n",
      "input (InputLayer)           [(None, 28, 28, 1)]       0         \n",
      "_________________________________________________________________\n",
      "conv1 (Conv2D)               (None, 22, 22, 128)       6400      \n",
      "_________________________________________________________________\n",
      "max_pool1 (MaxPooling2D)     (None, 11, 11, 128)       0         \n",
      "_________________________________________________________________\n",
      "conv2 (Conv2D)               (None, 9, 9, 64)          73792     \n",
      "_________________________________________________________________\n",
      "dropout1 (Dropout)           (None, 9, 9, 64)          0         \n",
      "_________________________________________________________________\n",
      "flatten (Flatten)            (None, 5184)              0         \n",
      "_________________________________________________________________\n",
      "fully_connected1 (Dense)     (None, 64)                331840    \n",
      "_________________________________________________________________\n",
      "dropout2 (Dropout)           (None, 64)                0         \n",
      "_________________________________________________________________\n",
      "fully_connected2 (Dense)     (None, 32)                2080      \n",
      "_________________________________________________________________\n",
      "dropout3 (Dropout)           (None, 32)                0         \n",
      "_________________________________________________________________\n",
      "fully_connected3 (Dense)     (None, 16)                528       \n",
      "_________________________________________________________________\n",
      "normalize (Lambda)           (None, 16)                0         \n",
      "=================================================================\n",
      "Total params: 414,640\n",
      "Trainable params: 414,640\n",
      "Non-trainable params: 0\n",
      "_________________________________________________________________\n"
     ]
    }
   ],
   "source": [
    "def create_SSN_model(input_shape=(28, 28, 1)):\n",
    "\n",
    "    # Create feature_extractor, (common part of SNN)\n",
    "    input_layer = Input(shape=input_shape, name=\"input\")\n",
    "\n",
    "    x = Conv2D(128, (7, 7), activation='relu', name=\"conv1\")(input_layer)\n",
    "    x = MaxPooling2D((2, 2), name=\"max_pool1\")(x)\n",
    "    x = Conv2D(64, (3, 3), activation='relu', name=\"conv2\")(x)\n",
    "    # x = MaxPooling2D((2, 2), name=\"max_pool2\")(x)\n",
    "    x = Dropout(0.4, name=\"dropout1\")(x)\n",
    "    x = Flatten(name=\"flatten\")(x)\n",
    "    x = Dense(64, activation='relu', name=\"fully_connected1\")(x)\n",
    "    x = Dropout(0.5, name=\"dropout2\")(x)\n",
    "    x = Dense(32, activation='relu', name=\"fully_connected2\")(x)\n",
    "    x = Dropout(0.5, name=\"dropout3\")(x)\n",
    "    x = Dense(16, activation='relu', name=\"fully_connected3\")(x)\n",
    "\n",
    "    embedding = Lambda(lambda x: tf.math.l2_normalize(x, axis=1), name=\"normalize\")(x)\n",
    "\n",
    "    feature_extractor = Model(inputs=input_layer, outputs=embedding, name=\"feature_extractor\")\n",
    "\n",
    "\n",
    "    # Assemble SSN\n",
    "    input_a = Input(shape=input_shape, name=\"input_a\")\n",
    "    input_b = Input(shape=input_shape, name=\"input_b\")\n",
    "\n",
    "    processed_a = feature_extractor(input_a)\n",
    "    processed_b = feature_extractor(input_b)\n",
    "\n",
    "    distance = Lambda(lambda x: tf.math.abs(x[0] - x[1]), name=\"euclidean\") ([processed_a, processed_b], )\n",
    "    output = Dense(1, activation='sigmoid', name=\"sigmoid_output\")(distance)\n",
    "\n",
    "    model = Model(inputs=[input_a, input_b], outputs=output, name=\"SSN\")\n",
    "\n",
    "    return model\n",
    "\n",
    "model= create_SSN_model()\n",
    "model.summary()\n",
    "model.compile(\n",
    "    loss=contrastive_loss,\n",
    "    optimizer=Adam(lr=0.0001),\n",
    "    metrics= [\n",
    "        'accuracy',\n",
    "    ]\n",
    ")\n",
    "\n",
    "print(\"\\nfeature_extractor\")\n",
    "feature_extractor = model.get_layer(\"feature_extractor\")\n",
    "feature_extractor.summary()"
   ]
  },
  {
   "cell_type": "markdown",
   "metadata": {},
   "source": [
    "## load saved model"
   ]
  },
  {
   "cell_type": "code",
   "execution_count": null,
   "metadata": {},
   "outputs": [],
   "source": [
    "path_to_model=\"\"\n",
    "model = tf.keras.models.load_model(path_to_model, custom_objects={'contrastive_loss': contrastive_loss})"
   ]
  },
  {
   "cell_type": "markdown",
   "metadata": {},
   "source": [
    "## Train"
   ]
  },
  {
   "cell_type": "code",
   "execution_count": 8,
   "metadata": {},
   "outputs": [],
   "source": [
    "train_log_dir= \"../resources/train_logs/\""
   ]
  },
  {
   "cell_type": "code",
   "execution_count": 11,
   "metadata": {},
   "outputs": [
    {
     "name": "stdout",
     "output_type": "stream",
     "text": [
      "The tensorboard extension is already loaded. To reload it, use:\n",
      "  %reload_ext tensorboard\n"
     ]
    },
    {
     "data": {
      "text/html": [
       "\n",
       "      <iframe id=\"tensorboard-frame-d63775e32a5e4df1\" width=\"100%\" height=\"800\" frameborder=\"0\">\n",
       "      </iframe>\n",
       "      <script>\n",
       "        (function() {\n",
       "          const frame = document.getElementById(\"tensorboard-frame-d63775e32a5e4df1\");\n",
       "          const url = new URL(\"/\", window.location);\n",
       "          const port = 6006;\n",
       "          if (port) {\n",
       "            url.port = port;\n",
       "          }\n",
       "          frame.src = url;\n",
       "        })();\n",
       "      </script>\n",
       "    "
      ],
      "text/plain": [
       "<IPython.core.display.HTML object>"
      ]
     },
     "metadata": {},
     "output_type": "display_data"
    }
   ],
   "source": [
    "%load_ext tensorboard\n",
    "\n",
    "%tensorboard --logdir **train_log_dir"
   ]
  },
  {
   "cell_type": "code",
   "execution_count": 12,
   "metadata": {},
   "outputs": [
    {
     "name": "stdout",
     "output_type": "stream",
     "text": [
      "Epoch 1/10\n",
      "2250/2250 [==============================] - 245s 109ms/step - loss: 0.2521 - accuracy: 0.4988 - val_loss: 0.2502 - val_accuracy: 0.4194\n",
      "Epoch 2/10\n",
      "2250/2250 [==============================] - 239s 106ms/step - loss: 0.2504 - accuracy: 0.5084 - val_loss: 0.2448 - val_accuracy: 0.5075\n",
      "Epoch 3/10\n",
      "2250/2250 [==============================] - 181s 81ms/step - loss: 0.2375 - accuracy: 0.5976 - val_loss: 0.2221 - val_accuracy: 0.6472\n",
      "Epoch 4/10\n",
      "2250/2250 [==============================] - 175s 78ms/step - loss: 0.2101 - accuracy: 0.6995 - val_loss: 0.2196 - val_accuracy: 0.6431\n",
      "Epoch 5/10\n",
      "2250/2250 [==============================] - 177s 79ms/step - loss: 0.1957 - accuracy: 0.7237 - val_loss: 0.2598 - val_accuracy: 0.5381\n",
      "Epoch 6/10\n",
      "2250/2250 [==============================] - 176s 78ms/step - loss: 0.1854 - accuracy: 0.7355 - val_loss: 0.2630 - val_accuracy: 0.5455\n",
      "Epoch 7/10\n",
      "2250/2250 [==============================] - 176s 78ms/step - loss: 0.1779 - accuracy: 0.7414 - val_loss: 0.2689 - val_accuracy: 0.5420\n",
      "Epoch 8/10\n",
      "2250/2250 [==============================] - 180s 80ms/step - loss: 0.1740 - accuracy: 0.7445 - val_loss: 0.2360 - val_accuracy: 0.6384\n",
      "Epoch 9/10\n",
      "2250/2250 [==============================] - 178s 79ms/step - loss: 0.1672 - accuracy: 0.7585 - val_loss: 0.2031 - val_accuracy: 0.6647\n",
      "Epoch 10/10\n",
      "2250/2250 [==============================] - 174s 77ms/step - loss: 0.1473 - accuracy: 0.8222 - val_loss: 0.1888 - val_accuracy: 0.7371\n"
     ]
    }
   ],
   "source": [
    "dir_cnt=len(next(os.walk(train_log_dir))[1])\n",
    "log_dir = train_log_dir + f\"{dir_cnt+1}\"\n",
    "tensorboard_callback = tf.keras.callbacks.TensorBoard(log_dir=log_dir, histogram_freq=1)\n",
    "\n",
    "history= model.fit(\n",
    "    x= train_generator, \n",
    "    validation_data=validation_generator,\n",
    "    initial_epoch=0,\n",
    "    epochs=10,\n",
    "    callbacks=[tensorboard_callback],\n",
    "    verbose=1\n",
    ")\n"
   ]
  },
  {
   "cell_type": "markdown",
   "metadata": {},
   "source": [
    "## plot training curves"
   ]
  },
  {
   "cell_type": "code",
   "execution_count": 21,
   "metadata": {},
   "outputs": [
    {
     "data": {
      "application/vnd.plotly.v1+json": {
       "config": {
        "plotlyServerURL": "https://plot.ly"
       },
       "data": [
        {
         "name": "loss",
         "type": "scatter",
         "xaxis": "x",
         "y": [
          0.25162941217422485,
          0.24887654185295105,
          0.22989585995674133,
          0.20587055385112762,
          0.1924801617860794,
          0.1826004832983017,
          0.17690128087997437,
          0.17286916077136993,
          0.16261757910251617,
          0.14138951897621155
         ],
         "yaxis": "y"
        },
        {
         "name": "val_loss",
         "type": "scatter",
         "xaxis": "x",
         "y": [
          0.2501606047153473,
          0.24478906393051147,
          0.2220691591501236,
          0.21960680186748505,
          0.2597840428352356,
          0.2629653215408325,
          0.2688979506492615,
          0.23599658906459808,
          0.20313720405101776,
          0.18875336647033691
         ],
         "yaxis": "y"
        },
        {
         "name": "val accuracy",
         "type": "scatter",
         "xaxis": "x",
         "y": [
          0.49819445610046387,
          0.5224722027778625,
          0.6306527853012085,
          0.7084166407585144,
          0.7273610830307007,
          0.738527774810791,
          0.7419305443763733,
          0.7447639107704163,
          0.7764583230018616,
          0.8309305310249329
         ],
         "yaxis": "y2"
        }
       ],
       "layout": {
        "template": {
         "data": {
          "bar": [
           {
            "error_x": {
             "color": "#2a3f5f"
            },
            "error_y": {
             "color": "#2a3f5f"
            },
            "marker": {
             "line": {
              "color": "#E5ECF6",
              "width": 0.5
             },
             "pattern": {
              "fillmode": "overlay",
              "size": 10,
              "solidity": 0.2
             }
            },
            "type": "bar"
           }
          ],
          "barpolar": [
           {
            "marker": {
             "line": {
              "color": "#E5ECF6",
              "width": 0.5
             },
             "pattern": {
              "fillmode": "overlay",
              "size": 10,
              "solidity": 0.2
             }
            },
            "type": "barpolar"
           }
          ],
          "carpet": [
           {
            "aaxis": {
             "endlinecolor": "#2a3f5f",
             "gridcolor": "white",
             "linecolor": "white",
             "minorgridcolor": "white",
             "startlinecolor": "#2a3f5f"
            },
            "baxis": {
             "endlinecolor": "#2a3f5f",
             "gridcolor": "white",
             "linecolor": "white",
             "minorgridcolor": "white",
             "startlinecolor": "#2a3f5f"
            },
            "type": "carpet"
           }
          ],
          "choropleth": [
           {
            "colorbar": {
             "outlinewidth": 0,
             "ticks": ""
            },
            "type": "choropleth"
           }
          ],
          "contour": [
           {
            "colorbar": {
             "outlinewidth": 0,
             "ticks": ""
            },
            "colorscale": [
             [
              0,
              "#0d0887"
             ],
             [
              0.1111111111111111,
              "#46039f"
             ],
             [
              0.2222222222222222,
              "#7201a8"
             ],
             [
              0.3333333333333333,
              "#9c179e"
             ],
             [
              0.4444444444444444,
              "#bd3786"
             ],
             [
              0.5555555555555556,
              "#d8576b"
             ],
             [
              0.6666666666666666,
              "#ed7953"
             ],
             [
              0.7777777777777778,
              "#fb9f3a"
             ],
             [
              0.8888888888888888,
              "#fdca26"
             ],
             [
              1,
              "#f0f921"
             ]
            ],
            "type": "contour"
           }
          ],
          "contourcarpet": [
           {
            "colorbar": {
             "outlinewidth": 0,
             "ticks": ""
            },
            "type": "contourcarpet"
           }
          ],
          "heatmap": [
           {
            "colorbar": {
             "outlinewidth": 0,
             "ticks": ""
            },
            "colorscale": [
             [
              0,
              "#0d0887"
             ],
             [
              0.1111111111111111,
              "#46039f"
             ],
             [
              0.2222222222222222,
              "#7201a8"
             ],
             [
              0.3333333333333333,
              "#9c179e"
             ],
             [
              0.4444444444444444,
              "#bd3786"
             ],
             [
              0.5555555555555556,
              "#d8576b"
             ],
             [
              0.6666666666666666,
              "#ed7953"
             ],
             [
              0.7777777777777778,
              "#fb9f3a"
             ],
             [
              0.8888888888888888,
              "#fdca26"
             ],
             [
              1,
              "#f0f921"
             ]
            ],
            "type": "heatmap"
           }
          ],
          "heatmapgl": [
           {
            "colorbar": {
             "outlinewidth": 0,
             "ticks": ""
            },
            "colorscale": [
             [
              0,
              "#0d0887"
             ],
             [
              0.1111111111111111,
              "#46039f"
             ],
             [
              0.2222222222222222,
              "#7201a8"
             ],
             [
              0.3333333333333333,
              "#9c179e"
             ],
             [
              0.4444444444444444,
              "#bd3786"
             ],
             [
              0.5555555555555556,
              "#d8576b"
             ],
             [
              0.6666666666666666,
              "#ed7953"
             ],
             [
              0.7777777777777778,
              "#fb9f3a"
             ],
             [
              0.8888888888888888,
              "#fdca26"
             ],
             [
              1,
              "#f0f921"
             ]
            ],
            "type": "heatmapgl"
           }
          ],
          "histogram": [
           {
            "marker": {
             "pattern": {
              "fillmode": "overlay",
              "size": 10,
              "solidity": 0.2
             }
            },
            "type": "histogram"
           }
          ],
          "histogram2d": [
           {
            "colorbar": {
             "outlinewidth": 0,
             "ticks": ""
            },
            "colorscale": [
             [
              0,
              "#0d0887"
             ],
             [
              0.1111111111111111,
              "#46039f"
             ],
             [
              0.2222222222222222,
              "#7201a8"
             ],
             [
              0.3333333333333333,
              "#9c179e"
             ],
             [
              0.4444444444444444,
              "#bd3786"
             ],
             [
              0.5555555555555556,
              "#d8576b"
             ],
             [
              0.6666666666666666,
              "#ed7953"
             ],
             [
              0.7777777777777778,
              "#fb9f3a"
             ],
             [
              0.8888888888888888,
              "#fdca26"
             ],
             [
              1,
              "#f0f921"
             ]
            ],
            "type": "histogram2d"
           }
          ],
          "histogram2dcontour": [
           {
            "colorbar": {
             "outlinewidth": 0,
             "ticks": ""
            },
            "colorscale": [
             [
              0,
              "#0d0887"
             ],
             [
              0.1111111111111111,
              "#46039f"
             ],
             [
              0.2222222222222222,
              "#7201a8"
             ],
             [
              0.3333333333333333,
              "#9c179e"
             ],
             [
              0.4444444444444444,
              "#bd3786"
             ],
             [
              0.5555555555555556,
              "#d8576b"
             ],
             [
              0.6666666666666666,
              "#ed7953"
             ],
             [
              0.7777777777777778,
              "#fb9f3a"
             ],
             [
              0.8888888888888888,
              "#fdca26"
             ],
             [
              1,
              "#f0f921"
             ]
            ],
            "type": "histogram2dcontour"
           }
          ],
          "mesh3d": [
           {
            "colorbar": {
             "outlinewidth": 0,
             "ticks": ""
            },
            "type": "mesh3d"
           }
          ],
          "parcoords": [
           {
            "line": {
             "colorbar": {
              "outlinewidth": 0,
              "ticks": ""
             }
            },
            "type": "parcoords"
           }
          ],
          "pie": [
           {
            "automargin": true,
            "type": "pie"
           }
          ],
          "scatter": [
           {
            "fillpattern": {
             "fillmode": "overlay",
             "size": 10,
             "solidity": 0.2
            },
            "type": "scatter"
           }
          ],
          "scatter3d": [
           {
            "line": {
             "colorbar": {
              "outlinewidth": 0,
              "ticks": ""
             }
            },
            "marker": {
             "colorbar": {
              "outlinewidth": 0,
              "ticks": ""
             }
            },
            "type": "scatter3d"
           }
          ],
          "scattercarpet": [
           {
            "marker": {
             "colorbar": {
              "outlinewidth": 0,
              "ticks": ""
             }
            },
            "type": "scattercarpet"
           }
          ],
          "scattergeo": [
           {
            "marker": {
             "colorbar": {
              "outlinewidth": 0,
              "ticks": ""
             }
            },
            "type": "scattergeo"
           }
          ],
          "scattergl": [
           {
            "marker": {
             "colorbar": {
              "outlinewidth": 0,
              "ticks": ""
             }
            },
            "type": "scattergl"
           }
          ],
          "scattermapbox": [
           {
            "marker": {
             "colorbar": {
              "outlinewidth": 0,
              "ticks": ""
             }
            },
            "type": "scattermapbox"
           }
          ],
          "scatterpolar": [
           {
            "marker": {
             "colorbar": {
              "outlinewidth": 0,
              "ticks": ""
             }
            },
            "type": "scatterpolar"
           }
          ],
          "scatterpolargl": [
           {
            "marker": {
             "colorbar": {
              "outlinewidth": 0,
              "ticks": ""
             }
            },
            "type": "scatterpolargl"
           }
          ],
          "scatterternary": [
           {
            "marker": {
             "colorbar": {
              "outlinewidth": 0,
              "ticks": ""
             }
            },
            "type": "scatterternary"
           }
          ],
          "surface": [
           {
            "colorbar": {
             "outlinewidth": 0,
             "ticks": ""
            },
            "colorscale": [
             [
              0,
              "#0d0887"
             ],
             [
              0.1111111111111111,
              "#46039f"
             ],
             [
              0.2222222222222222,
              "#7201a8"
             ],
             [
              0.3333333333333333,
              "#9c179e"
             ],
             [
              0.4444444444444444,
              "#bd3786"
             ],
             [
              0.5555555555555556,
              "#d8576b"
             ],
             [
              0.6666666666666666,
              "#ed7953"
             ],
             [
              0.7777777777777778,
              "#fb9f3a"
             ],
             [
              0.8888888888888888,
              "#fdca26"
             ],
             [
              1,
              "#f0f921"
             ]
            ],
            "type": "surface"
           }
          ],
          "table": [
           {
            "cells": {
             "fill": {
              "color": "#EBF0F8"
             },
             "line": {
              "color": "white"
             }
            },
            "header": {
             "fill": {
              "color": "#C8D4E3"
             },
             "line": {
              "color": "white"
             }
            },
            "type": "table"
           }
          ]
         },
         "layout": {
          "annotationdefaults": {
           "arrowcolor": "#2a3f5f",
           "arrowhead": 0,
           "arrowwidth": 1
          },
          "autotypenumbers": "strict",
          "coloraxis": {
           "colorbar": {
            "outlinewidth": 0,
            "ticks": ""
           }
          },
          "colorscale": {
           "diverging": [
            [
             0,
             "#8e0152"
            ],
            [
             0.1,
             "#c51b7d"
            ],
            [
             0.2,
             "#de77ae"
            ],
            [
             0.3,
             "#f1b6da"
            ],
            [
             0.4,
             "#fde0ef"
            ],
            [
             0.5,
             "#f7f7f7"
            ],
            [
             0.6,
             "#e6f5d0"
            ],
            [
             0.7,
             "#b8e186"
            ],
            [
             0.8,
             "#7fbc41"
            ],
            [
             0.9,
             "#4d9221"
            ],
            [
             1,
             "#276419"
            ]
           ],
           "sequential": [
            [
             0,
             "#0d0887"
            ],
            [
             0.1111111111111111,
             "#46039f"
            ],
            [
             0.2222222222222222,
             "#7201a8"
            ],
            [
             0.3333333333333333,
             "#9c179e"
            ],
            [
             0.4444444444444444,
             "#bd3786"
            ],
            [
             0.5555555555555556,
             "#d8576b"
            ],
            [
             0.6666666666666666,
             "#ed7953"
            ],
            [
             0.7777777777777778,
             "#fb9f3a"
            ],
            [
             0.8888888888888888,
             "#fdca26"
            ],
            [
             1,
             "#f0f921"
            ]
           ],
           "sequentialminus": [
            [
             0,
             "#0d0887"
            ],
            [
             0.1111111111111111,
             "#46039f"
            ],
            [
             0.2222222222222222,
             "#7201a8"
            ],
            [
             0.3333333333333333,
             "#9c179e"
            ],
            [
             0.4444444444444444,
             "#bd3786"
            ],
            [
             0.5555555555555556,
             "#d8576b"
            ],
            [
             0.6666666666666666,
             "#ed7953"
            ],
            [
             0.7777777777777778,
             "#fb9f3a"
            ],
            [
             0.8888888888888888,
             "#fdca26"
            ],
            [
             1,
             "#f0f921"
            ]
           ]
          },
          "colorway": [
           "#636efa",
           "#EF553B",
           "#00cc96",
           "#ab63fa",
           "#FFA15A",
           "#19d3f3",
           "#FF6692",
           "#B6E880",
           "#FF97FF",
           "#FECB52"
          ],
          "font": {
           "color": "#2a3f5f"
          },
          "geo": {
           "bgcolor": "white",
           "lakecolor": "white",
           "landcolor": "#E5ECF6",
           "showlakes": true,
           "showland": true,
           "subunitcolor": "white"
          },
          "hoverlabel": {
           "align": "left"
          },
          "hovermode": "closest",
          "mapbox": {
           "style": "light"
          },
          "paper_bgcolor": "white",
          "plot_bgcolor": "#E5ECF6",
          "polar": {
           "angularaxis": {
            "gridcolor": "white",
            "linecolor": "white",
            "ticks": ""
           },
           "bgcolor": "#E5ECF6",
           "radialaxis": {
            "gridcolor": "white",
            "linecolor": "white",
            "ticks": ""
           }
          },
          "scene": {
           "xaxis": {
            "backgroundcolor": "#E5ECF6",
            "gridcolor": "white",
            "gridwidth": 2,
            "linecolor": "white",
            "showbackground": true,
            "ticks": "",
            "zerolinecolor": "white"
           },
           "yaxis": {
            "backgroundcolor": "#E5ECF6",
            "gridcolor": "white",
            "gridwidth": 2,
            "linecolor": "white",
            "showbackground": true,
            "ticks": "",
            "zerolinecolor": "white"
           },
           "zaxis": {
            "backgroundcolor": "#E5ECF6",
            "gridcolor": "white",
            "gridwidth": 2,
            "linecolor": "white",
            "showbackground": true,
            "ticks": "",
            "zerolinecolor": "white"
           }
          },
          "shapedefaults": {
           "line": {
            "color": "#2a3f5f"
           }
          },
          "ternary": {
           "aaxis": {
            "gridcolor": "white",
            "linecolor": "white",
            "ticks": ""
           },
           "baxis": {
            "gridcolor": "white",
            "linecolor": "white",
            "ticks": ""
           },
           "bgcolor": "#E5ECF6",
           "caxis": {
            "gridcolor": "white",
            "linecolor": "white",
            "ticks": ""
           }
          },
          "title": {
           "x": 0.05
          },
          "xaxis": {
           "automargin": true,
           "gridcolor": "white",
           "linecolor": "white",
           "ticks": "",
           "title": {
            "standoff": 15
           },
           "zerolinecolor": "white",
           "zerolinewidth": 2
          },
          "yaxis": {
           "automargin": true,
           "gridcolor": "white",
           "linecolor": "white",
           "ticks": "",
           "title": {
            "standoff": 15
           },
           "zerolinecolor": "white",
           "zerolinewidth": 2
          }
         }
        },
        "xaxis": {
         "anchor": "y",
         "domain": [
          0,
          0.94
         ],
         "title": {
          "text": "Epoch"
         }
        },
        "yaxis": {
         "anchor": "x",
         "domain": [
          0,
          1
         ],
         "title": {
          "text": "<b>primary</b> Loss"
         }
        },
        "yaxis2": {
         "anchor": "x",
         "overlaying": "y",
         "side": "right",
         "title": {
          "text": "<b>secondary</b> Accuracy %"
         }
        }
       }
      }
     },
     "metadata": {},
     "output_type": "display_data"
    }
   ],
   "source": [
    "import plotly.graph_objects as go\n",
    "from plotly.subplots import make_subplots\n",
    "fig = make_subplots(specs=[[{\"secondary_y\": True}]])\n",
    "\n",
    "fig.add_trace(\n",
    "    go.Scatter( y=history.history['loss'], name=\"loss\"),\n",
    "    secondary_y=False,\n",
    ")\n",
    "\n",
    "fig.add_trace(\n",
    "    go.Scatter( y=history.history['val_loss'], name=\"val_loss\"),\n",
    "    secondary_y=False,\n",
    ")\n",
    "\n",
    "fig.add_trace(\n",
    "    go.Scatter( y=history.history['accuracy'], name=\"val accuracy\"),\n",
    "    secondary_y=True,\n",
    ")\n",
    "\n",
    "# Set x-axis title\n",
    "fig.update_xaxes(title_text=\"Epoch\")\n",
    "\n",
    "# Set y-axes titles\n",
    "fig.update_yaxes(title_text=\"<b>primary</b> Loss\", secondary_y=False)\n",
    "fig.update_yaxes(title_text=\"<b>secondary</b> Accuracy\", secondary_y=True)"
   ]
  },
  {
   "cell_type": "markdown",
   "metadata": {},
   "source": [
    "### Save and Load Model"
   ]
  },
  {
   "cell_type": "code",
   "execution_count": 19,
   "metadata": {},
   "outputs": [
    {
     "name": "stdout",
     "output_type": "stream",
     "text": [
      "INFO:tensorflow:Assets written to: ../resources/saved_models/1/assets\n"
     ]
    }
   ],
   "source": [
    "model.save(\"../resources/saved_models/1/\")"
   ]
  },
  {
   "cell_type": "markdown",
   "metadata": {},
   "source": [
    "### Resume Training"
   ]
  },
  {
   "cell_type": "code",
   "execution_count": 10,
   "metadata": {},
   "outputs": [
    {
     "data": {
      "text/plain": [
       "<tensorflow.python.keras.engine.functional.Functional at 0x1dbc4a1e2e0>"
      ]
     },
     "execution_count": 10,
     "metadata": {},
     "output_type": "execute_result"
    }
   ],
   "source": [
    "log_dir = \"logs/fit/9\" \n",
    "tensorboard_callback = tf.keras.callbacks.TensorBoard(log_dir=log_dir, histogram_freq=1)\n",
    "\n",
    "history = model.fit(\n",
    "    x= train_generator, \n",
    "    validation_data=validation_generator,\n",
    "    initial_epoch=60,\n",
    "    epochs=90,\n",
    "    callbacks=[tensorboard_callback]\n",
    ")"
   ]
  }
 ],
 "metadata": {
  "kernelspec": {
   "display_name": "Python 3.8.10 64-bit",
   "language": "python",
   "name": "python3"
  },
  "language_info": {
   "codemirror_mode": {
    "name": "ipython",
    "version": 3
   },
   "file_extension": ".py",
   "mimetype": "text/x-python",
   "name": "python",
   "nbconvert_exporter": "python",
   "pygments_lexer": "ipython3",
   "version": "3.8.10"
  },
  "orig_nbformat": 4,
  "vscode": {
   "interpreter": {
    "hash": "359305e16334e2b11443c5a753ad7e54bc93a9b2ca917376c9a315f0bcf4c214"
   }
  }
 },
 "nbformat": 4,
 "nbformat_minor": 2
}
